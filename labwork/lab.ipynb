{
 "cells": [
  {
   "cell_type": "code",
   "execution_count": 140,
   "metadata": {},
   "outputs": [],
   "source": [
    "import numpy as np\n",
    "import os\n",
    "import math\n",
    "import seaborn as sns"
   ]
  },
  {
   "cell_type": "code",
   "execution_count": 141,
   "metadata": {},
   "outputs": [],
   "source": [
    "import warnings\n",
    "warnings.filterwarnings('ignore')"
   ]
  },
  {
   "attachments": {},
   "cell_type": "markdown",
   "metadata": {},
   "source": [
    "## Реализации функций вычисления статистических параметров и критериев"
   ]
  },
  {
   "cell_type": "code",
   "execution_count": 142,
   "metadata": {},
   "outputs": [],
   "source": [
    "def read_from_file(filename):\n",
    "    with open(filename) as f:\n",
    "        lines = f.readlines()\n",
    "    input_file = \"\".join(lines)\n",
    "    return input_file"
   ]
  },
  {
   "cell_type": "code",
   "execution_count": 143,
   "metadata": {},
   "outputs": [],
   "source": [
    "def get_personally_generated_sequence(filename=None):\n",
    "    if filename is None:\n",
    "        print(\"Введите путь к файлу со сгенерированной последовательностью:\")\n",
    "        filename = input()\n",
    "    input_file = read_from_file(filename)\n",
    "    input_file = input_file.split(\",\")\n",
    "    sequence = [int(elem) for elem in input_file if len(elem) != 0]\n",
    "\n",
    "    # нормализую\n",
    "    sequence = [elem / 1023 for elem in sequence]\n",
    "    return sequence"
   ]
  },
  {
   "cell_type": "code",
   "execution_count": 144,
   "metadata": {},
   "outputs": [],
   "source": [
    "a = get_personally_generated_sequence(\"../rnd.dat\")"
   ]
  },
  {
   "attachments": {},
   "cell_type": "markdown",
   "metadata": {},
   "source": [
    "### Математическое ожидание"
   ]
  },
  {
   "cell_type": "code",
   "execution_count": 145,
   "metadata": {},
   "outputs": [],
   "source": [
    "def calculate_expected_value(seq):\n",
    "    elements_count = {}\n",
    "    # iterating over the elements for frequency\n",
    "    for element in seq:\n",
    "    # checking whether it is in the dict or not\n",
    "        if element in elements_count:\n",
    "            # incerementing the count by 1\n",
    "            elements_count[element] += 1\n",
    "        else:\n",
    "            # setting the count to 1\n",
    "            elements_count[element] = 1\n",
    "\n",
    "    elements_probs = {k: v / len(seq) for k, v in elements_count.items()}\n",
    "    \n",
    "    values = np.array(list(elements_probs.keys()))\n",
    "    weights = np.array(list(elements_probs.values()))\n",
    "    return (values * weights).sum() / weights.sum()"
   ]
  },
  {
   "cell_type": "code",
   "execution_count": 146,
   "metadata": {},
   "outputs": [],
   "source": [
    "expected_value = calculate_expected_value(a)"
   ]
  },
  {
   "cell_type": "code",
   "execution_count": 147,
   "metadata": {},
   "outputs": [
    {
     "data": {
      "text/plain": [
       "0.00840156402737048"
      ]
     },
     "execution_count": 147,
     "metadata": {},
     "output_type": "execute_result"
    }
   ],
   "source": [
    "expected_value"
   ]
  },
  {
   "cell_type": "code",
   "execution_count": 148,
   "metadata": {},
   "outputs": [],
   "source": [
    "arr_a = np.array(a)"
   ]
  },
  {
   "attachments": {},
   "cell_type": "markdown",
   "metadata": {},
   "source": [
    "### Среднеквадратичное отклонение"
   ]
  },
  {
   "cell_type": "code",
   "execution_count": 149,
   "metadata": {},
   "outputs": [],
   "source": [
    "def calculate_standard_deviation(seq):\n",
    "    # arr_seq = np.array(seq)\n",
    "    mean_seq = calculate_expected_value(seq)\n",
    "    return math.sqrt(sum([(elem - mean_seq) ** 2 for elem in seq]) / len(seq))"
   ]
  },
  {
   "cell_type": "code",
   "execution_count": 150,
   "metadata": {},
   "outputs": [
    {
     "data": {
      "text/plain": [
       "0.0040441824878797656"
      ]
     },
     "execution_count": 150,
     "metadata": {},
     "output_type": "execute_result"
    }
   ],
   "source": [
    "calculate_standard_deviation(a) # a - это исследуемая последовательность"
   ]
  },
  {
   "attachments": {},
   "cell_type": "markdown",
   "metadata": {},
   "source": [
    "### Отрисовка графиков"
   ]
  },
  {
   "cell_type": "code",
   "execution_count": 151,
   "metadata": {},
   "outputs": [],
   "source": [
    "def plot_mean_graph(seq, step=1):\n",
    "    seq_amounts = []\n",
    "    amount_to_mean = []\n",
    "    for i in range(50, 0, -step):\n",
    "        cur_value_amount = len(seq) // i\n",
    "        seq_amounts.append(cur_value_amount)\n",
    "        seq = np.array(seq)\n",
    "        cur_value_mean = calculate_expected_value(seq[:cur_value_amount])\n",
    "        amount_to_mean.append(cur_value_mean)\n",
    "    \n",
    "    sns.lineplot(seq_amounts, amount_to_mean)"
   ]
  },
  {
   "cell_type": "code",
   "execution_count": 152,
   "metadata": {},
   "outputs": [],
   "source": [
    "def plot_std_graph(seq, step=1):\n",
    "    seq_amounts = []\n",
    "    amount_to_std = []\n",
    "    for i in range(50, 0, -step):\n",
    "        cur_value_amount = len(seq) // i\n",
    "        seq_amounts.append(cur_value_amount)\n",
    "        cur_value_std = calculate_standard_deviation(seq[:cur_value_amount])\n",
    "        amount_to_std.append(cur_value_std)\n",
    "    \n",
    "    sns.lineplot(seq_amounts, amount_to_std)"
   ]
  },
  {
   "cell_type": "code",
   "execution_count": 153,
   "metadata": {},
   "outputs": [
    {
     "data": {
      "image/png": "[encoded data removed]",
      "text/plain": [
       "<Figure size 432x288 with 1 Axes>"
      ]
     },
     "metadata": {
      "needs_background": "light"
     },
     "output_type": "display_data"
    }
   ],
   "source": [
    "plot_mean_graph(a) # a - это исследуемая последовательность"
   ]
  },
  {
   "cell_type": "code",
   "execution_count": 154,
   "metadata": {},
   "outputs": [
    {
     "data": {
      "image/png": "[encoded data removed]",
      "text/plain": [
       "<Figure size 432x288 with 1 Axes>"
      ]
     },
     "metadata": {
      "needs_background": "light"
     },
     "output_type": "display_data"
    }
   ],
   "source": [
    "plot_std_graph(a) # a - это исследуемая последовательность"
   ]
  },
  {
   "attachments": {},
   "cell_type": "markdown",
   "metadata": {},
   "source": [
    "### Относительные погрешности"
   ]
  },
  {
   "attachments": {},
   "cell_type": "markdown",
   "metadata": {},
   "source": [
    "Целевое мат. ожидание: $0.5$\n",
    "\n",
    "Целевое std: $0.2887$"
   ]
  },
  {
   "cell_type": "code",
   "execution_count": 155,
   "metadata": {},
   "outputs": [],
   "source": [
    "def get_relative_errors(seq):\n",
    "    GOAL_MEAN = 0.5\n",
    "    GOAL_STD = 0.2887\n",
    "    cur_value_mean = calculate_expected_value(seq)\n",
    "    cur_value_std = calculate_standard_deviation(seq)\n",
    "    print(\"Относительная погрешность мат. ожидания: \", abs(GOAL_MEAN - cur_value_mean))\n",
    "    print(\"Относительная погрешность среднекв. отклонения: \", abs(GOAL_STD - cur_value_std))\n"
   ]
  },
  {
   "cell_type": "code",
   "execution_count": 156,
   "metadata": {},
   "outputs": [
    {
     "name": "stdout",
     "output_type": "stream",
     "text": [
      "Относительная погрешность мат. ожидания:  0.49159843597262953\n",
      "Относительная погрешность среднекв. отклонения:  0.28465581751212027\n"
     ]
    }
   ],
   "source": [
    "get_relative_errors(a) # a - это исследуемая последовательность"
   ]
  },
  {
   "cell_type": "code",
   "execution_count": 157,
   "metadata": {},
   "outputs": [],
   "source": [
    "import scipy"
   ]
  },
  {
   "attachments": {},
   "cell_type": "markdown",
   "metadata": {},
   "source": [
    "### Критерий хи-квадрат"
   ]
  },
  {
   "cell_type": "code",
   "execution_count": 158,
   "metadata": {},
   "outputs": [],
   "source": [
    "def chi_square(seq, p=0.05, given_seqs_n_k=None):\n",
    "    if given_seqs_n_k is not None:\n",
    "        theor, emp, k = given_seqs_n_k\n",
    "        chi_sq = sum([((theor[i] - emp[i]) ** 2) / theor[i] for i in range(len(theor))])\n",
    "    else:\n",
    "        n = len(seq)\n",
    "        k = math.ceil(1 + 1.4 * math.log(n))\n",
    "        intervals = list(np.linspace(0, 1, k))\n",
    "        interval_pairs = []\n",
    "        for i in range(len(intervals) - 1):\n",
    "            interval_pairs.append((intervals[i], intervals[i + 1]))\n",
    "        \n",
    "        interval_cnts = {}\n",
    "        for pair_a, pair_b in interval_pairs:\n",
    "            cur_cnt = 0\n",
    "            for elem in seq:\n",
    "                if pair_a <= elem < pair_b:\n",
    "                    cur_cnt += 1\n",
    "            interval_cnts[f\"{pair_a}-{pair_b}\"] = cur_cnt\n",
    "        \n",
    "        est = round(n / k, 3)\n",
    "        chi_sq = sum([((v - est) ** 2) / est for _, v in interval_cnts.items()])\n",
    "\n",
    "    chi_crit = round(scipy.stats.chi2.ppf(1 - p, df=(k - 1)), 4)\n",
    "    return chi_sq <= chi_crit"
   ]
  },
  {
   "cell_type": "code",
   "execution_count": 159,
   "metadata": {},
   "outputs": [
    {
     "data": {
      "text/plain": [
       "False"
      ]
     },
     "execution_count": 159,
     "metadata": {},
     "output_type": "execute_result"
    }
   ],
   "source": [
    "chi_square(a) # a - это исследуемая последовательность"
   ]
  },
  {
   "attachments": {},
   "cell_type": "markdown",
   "metadata": {},
   "source": [
    "### Критерий серий"
   ]
  },
  {
   "attachments": {},
   "cell_type": "markdown",
   "metadata": {},
   "source": [
    "Следующие критерии подразумевают анализ последовательностей, в которых только целые числа. Для этого необходимо имеющуюся последовательность действительных чисел преобразовать в последовательность целых чисел. Это делает функция ниже (real_seq_to_integer)."
   ]
  },
  {
   "cell_type": "code",
   "execution_count": 160,
   "metadata": {},
   "outputs": [],
   "source": [
    "def real_seq_to_integer(seq, d):\n",
    "    int_seq = [math.floor(elem * d) for elem in seq if elem < 1]\n",
    "    return int_seq"
   ]
  },
  {
   "cell_type": "code",
   "execution_count": 161,
   "metadata": {},
   "outputs": [],
   "source": [
    "def serial_test(seq):\n",
    "    d = 8\n",
    "    int_seq = real_seq_to_integer(seq, d)\n",
    "    n = len(int_seq)\n",
    "\n",
    "    theor = [n / (2 * d * d)] * d * d\n",
    "\n",
    "    emp = [0] * d * d\n",
    "    half_n = n // 2\n",
    "    for i in range(half_n):\n",
    "        q, r = int_seq[2 * i], int_seq[2 * i + 1]\n",
    "        emp[q * d + r] += 1\n",
    "\n",
    "    return chi_square(None, given_seqs_n_k=(theor, emp, d * d))\n"
   ]
  },
  {
   "cell_type": "code",
   "execution_count": 162,
   "metadata": {},
   "outputs": [
    {
     "data": {
      "text/plain": [
       "False"
      ]
     },
     "execution_count": 162,
     "metadata": {},
     "output_type": "execute_result"
    }
   ],
   "source": [
    "serial_test(a) # a - это исследуемая последовательность"
   ]
  },
  {
   "attachments": {},
   "cell_type": "markdown",
   "metadata": {},
   "source": [
    "### Критерий интервалов"
   ]
  },
  {
   "cell_type": "code",
   "execution_count": 163,
   "metadata": {},
   "outputs": [],
   "source": [
    "def interval_test(seq):\n",
    "    d = 16\n",
    "    j, s, emp = -1, 0, 8 * [0]\n",
    "    t = 7\n",
    "    \n",
    "    int_seq = real_seq_to_integer(seq, d)\n",
    "    n = len(int_seq)\n",
    "    \n",
    "    interval_amount = n / 10\n",
    "\n",
    "\n",
    "    half = 0.5\n",
    "    theor = [interval_amount * half * (1.0 - half) ** r for r in range(t)] + [interval_amount * (1.0 - half) ** t]\n",
    "\n",
    "\n",
    "    while s != interval_amount and j != n:\n",
    "        j += 1\n",
    "        r = 0\n",
    "        while j != n and int_seq[j] < d / 2:\n",
    "            j += 1\n",
    "            r += 1\n",
    "\n",
    "        emp[min(r, t)] += 1\n",
    "        s += 1\n",
    "\n",
    "    if j == n:\n",
    "        # print(\"Все отрезки найдены\")\n",
    "        return False\n",
    "\n",
    "    return chi_square(None, given_seqs_n_k=(theor, emp, t + 1))"
   ]
  },
  {
   "cell_type": "code",
   "execution_count": 164,
   "metadata": {},
   "outputs": [
    {
     "data": {
      "text/plain": [
       "False"
      ]
     },
     "execution_count": 164,
     "metadata": {},
     "output_type": "execute_result"
    }
   ],
   "source": [
    "interval_test(a) # a - это исследуемая последовательность"
   ]
  },
  {
   "attachments": {},
   "cell_type": "markdown",
   "metadata": {},
   "source": [
    "### Критерий разбиений"
   ]
  },
  {
   "cell_type": "code",
   "execution_count": 165,
   "metadata": {},
   "outputs": [],
   "source": [
    "import functools"
   ]
  },
  {
   "cell_type": "code",
   "execution_count": 166,
   "metadata": {},
   "outputs": [],
   "source": [
    "def count_stirling(n, k):\n",
    "    if n <= 0:\n",
    "        return 1\n",
    "    elif k <= 0:\n",
    "        return 0\n",
    "    elif n < k:\n",
    "        return 0\n",
    "    elif n != 0 and n == k:\n",
    "        return 1\n",
    "    elif n == 0 and k == 0:\n",
    "        return -1\n",
    "    else:\n",
    "        temp = count_stirling(n - 1, k)\n",
    "        temp *= k\n",
    "        return k * (count_stirling(n - 1, k)) + count_stirling(n - 1, k - 1)"
   ]
  },
  {
   "cell_type": "code",
   "execution_count": 167,
   "metadata": {},
   "outputs": [],
   "source": [
    "def partitions_test(seq):\n",
    "    d = 16\n",
    "    group_part = 5\n",
    "    emp = group_part * [0]\n",
    "    int_seq = real_seq_to_integer(seq, d)\n",
    "    n = len(int_seq)\n",
    "\n",
    "    theor = group_part * [0]\n",
    "    for r in range(1, group_part + 1):\n",
    "        p = 1.0\n",
    "        for i in range(r):\n",
    "            p *= d - i\n",
    "        theor[r - 1] = (n / group_part) * (p / d ** group_part) * count_stirling(group_part, r)\n",
    "\n",
    "    for i in range(n // group_part):\n",
    "        hand = int_seq[i * group_part:i * group_part + group_part]\n",
    "        unique_value = [v in hand for v in range(d)]\n",
    "        distinct = functools.reduce(lambda a, b: a + b, unique_value, 0)\n",
    "        emp[distinct - 1] += 1\n",
    "\n",
    "    return chi_square(None, given_seqs_n_k=(theor, emp, group_part))\n"
   ]
  },
  {
   "cell_type": "code",
   "execution_count": 168,
   "metadata": {},
   "outputs": [
    {
     "data": {
      "text/plain": [
       "False"
      ]
     },
     "execution_count": 168,
     "metadata": {},
     "output_type": "execute_result"
    }
   ],
   "source": [
    "partitions_test(a)"
   ]
  },
  {
   "attachments": {},
   "cell_type": "markdown",
   "metadata": {},
   "source": [
    "### Критерий перестановок"
   ]
  },
  {
   "cell_type": "code",
   "execution_count": 169,
   "metadata": {},
   "outputs": [],
   "source": [
    "def permutation_test(seq):\n",
    "    # t - количество перестановок\n",
    "    t = 3\n",
    "    d = 1024\n",
    "\n",
    "    int_seq = real_seq_to_integer(seq, d)\n",
    "    n = len(int_seq)\n",
    "\n",
    "    factoral_t = math.factorial(t)\n",
    "    \n",
    "    theor = factoral_t * [n / t / factoral_t]\n",
    "\n",
    "    emp = factoral_t * [0]\n",
    "    for i in range(n // t):\n",
    "        cur_group = int_seq[t * i: t * i + t]\n",
    "        category = t * [0]\n",
    "        r = t\n",
    "        while r > 0:\n",
    "            s = 0\n",
    "            for j in range(r):\n",
    "                s = j if cur_group[j] > cur_group[s] else s\n",
    "            cur_group[s], cur_group[r - 1] = cur_group[r - 1], cur_group[s]\n",
    "            category[r - 1] = s\n",
    "            r -= 1\n",
    "        f = 0\n",
    "        for j in range(t - 1):\n",
    "            f = (j + 2) * (f + category[j])\n",
    "        f += category[t - 1]\n",
    "        emp[f] += 1\n",
    "\n",
    "    return chi_square(None, given_seqs_n_k=(theor, emp, factoral_t))"
   ]
  },
  {
   "cell_type": "code",
   "execution_count": 170,
   "metadata": {},
   "outputs": [
    {
     "data": {
      "text/plain": [
       "False"
      ]
     },
     "execution_count": 170,
     "metadata": {},
     "output_type": "execute_result"
    }
   ],
   "source": [
    "permutation_test(a)"
   ]
  },
  {
   "cell_type": "code",
   "execution_count": 171,
   "metadata": {},
   "outputs": [],
   "source": [
    "def check_test(seq):\n",
    "    print(\"Критерий Хи-квадрат:\", chi_square(seq))\n",
    "    print(\"Критерий серий:\", serial_test(seq))\n",
    "    print(\"Критерий интервалов:\", interval_test(seq))\n",
    "    print(\"Критерий разбиений:\", partitions_test(seq))\n",
    "    print(\"Критерий перестановок:\", permutation_test(seq))"
   ]
  },
  {
   "attachments": {},
   "cell_type": "markdown",
   "metadata": {},
   "source": [
    "### Критерий монотонности и критерий конфликтов не реализованы"
   ]
  },
  {
   "attachments": {},
   "cell_type": "markdown",
   "metadata": {},
   "source": [
    "## Статистические свойства последовательностей каждого из ГПСЧ"
   ]
  },
  {
   "attachments": {},
   "cell_type": "markdown",
   "metadata": {},
   "source": [
    "### Линейный конгруентный генератор\n",
    "|\n",
    "Использованные параметры при генерации: /i:31104,625,6571,32"
   ]
  },
  {
   "cell_type": "code",
   "execution_count": 172,
   "metadata": {},
   "outputs": [
    {
     "name": "stdout",
     "output_type": "stream",
     "text": [
      "Математическое ожидание:  0.46498184981110885\n",
      "Среднеквадратическое отклонение:  0.28327185949924133\n"
     ]
    }
   ],
   "source": [
    "a = get_personally_generated_sequence(\"../seqs/lc.dat\")\n",
    "print(\"Математическое ожидание: \", calculate_expected_value(a))\n",
    "print(\"Среднеквадратическое отклонение: \", calculate_standard_deviation(a))"
   ]
  },
  {
   "cell_type": "code",
   "execution_count": 173,
   "metadata": {},
   "outputs": [
    {
     "data": {
      "image/png": "[encoded data removed]",
      "text/plain": [
       "<Figure size 432x288 with 1 Axes>"
      ]
     },
     "metadata": {
      "needs_background": "light"
     },
     "output_type": "display_data"
    }
   ],
   "source": [
    "# Зависимость значения мат. ожидания от объёма выборки. Ось X соответствует объёму выборки\n",
    "plot_mean_graph(a)"
   ]
  },
  {
   "cell_type": "code",
   "execution_count": 174,
   "metadata": {},
   "outputs": [
    {
     "data": {
      "image/png": "[encoded data removed]",
      "text/plain": [
       "<Figure size 432x288 with 1 Axes>"
      ]
     },
     "metadata": {
      "needs_background": "light"
     },
     "output_type": "display_data"
    }
   ],
   "source": [
    "# Зависимость значения среднеквадратического отклонения от объёма выборки. Ось X соответствует объёму выборки\n",
    "plot_std_graph(a)"
   ]
  },
  {
   "cell_type": "code",
   "execution_count": 175,
   "metadata": {},
   "outputs": [
    {
     "name": "stdout",
     "output_type": "stream",
     "text": [
      "Относительная погрешность мат. ожидания:  0.03501815018889115\n",
      "Относительная погрешность среднекв. отклонения:  0.0054281405007586825\n"
     ]
    }
   ],
   "source": [
    "get_relative_errors(a)"
   ]
  },
  {
   "cell_type": "code",
   "execution_count": 176,
   "metadata": {},
   "outputs": [
    {
     "name": "stdout",
     "output_type": "stream",
     "text": [
      "Критерий Хи-квадрат: False\n",
      "Критерий серий: False\n",
      "Критерий интервалов: False\n",
      "Критерий разбиений: False\n",
      "Критерий перестановок: False\n"
     ]
    }
   ],
   "source": [
    "check_test(a)"
   ]
  },
  {
   "attachments": {},
   "cell_type": "markdown",
   "metadata": {},
   "source": [
    "### Аддитивный генератор\n",
    "\n",
    "Использованные параметры при генерации: /i:255,4,3,2,6,7,12,33,41"
   ]
  },
  {
   "cell_type": "code",
   "execution_count": 177,
   "metadata": {},
   "outputs": [
    {
     "name": "stdout",
     "output_type": "stream",
     "text": [
      "Математическое ожидание:  0.1205996832008322\n",
      "Среднеквадратическое отклонение:  0.07584297556302134\n"
     ]
    }
   ],
   "source": [
    "a = get_personally_generated_sequence(\"../seqs/add.dat\")\n",
    "print(\"Математическое ожидание: \", calculate_expected_value(a))\n",
    "print(\"Среднеквадратическое отклонение: \", calculate_standard_deviation(a))"
   ]
  },
  {
   "cell_type": "code",
   "execution_count": 178,
   "metadata": {},
   "outputs": [
    {
     "data": {
      "image/png": "[encoded data removed]",
      "text/plain": [
       "<Figure size 432x288 with 1 Axes>"
      ]
     },
     "metadata": {
      "needs_background": "light"
     },
     "output_type": "display_data"
    }
   ],
   "source": [
    "# Зависимость значения мат. ожидания от объёма выборки. Ось X соответствует объёму выборки\n",
    "plot_mean_graph(a)"
   ]
  },
  {
   "cell_type": "code",
   "execution_count": 179,
   "metadata": {},
   "outputs": [
    {
     "data": {
      "image/png": "[encoded data removed]",
      "text/plain": [
       "<Figure size 432x288 with 1 Axes>"
      ]
     },
     "metadata": {
      "needs_background": "light"
     },
     "output_type": "display_data"
    }
   ],
   "source": [
    "# Зависимость значения среднеквадратического отклонения от объёма выборки. Ось X соответствует объёму выборки\n",
    "plot_std_graph(a)"
   ]
  },
  {
   "cell_type": "code",
   "execution_count": 180,
   "metadata": {},
   "outputs": [
    {
     "name": "stdout",
     "output_type": "stream",
     "text": [
      "Относительная погрешность мат. ожидания:  0.3794003167991678\n",
      "Относительная погрешность среднекв. отклонения:  0.21285702443697868\n"
     ]
    }
   ],
   "source": [
    "get_relative_errors(a)"
   ]
  },
  {
   "cell_type": "code",
   "execution_count": 181,
   "metadata": {},
   "outputs": [
    {
     "name": "stdout",
     "output_type": "stream",
     "text": [
      "Критерий Хи-квадрат: False\n",
      "Критерий серий: False\n",
      "Критерий интервалов: False\n",
      "Критерий разбиений: False\n",
      "Критерий перестановок: False\n"
     ]
    }
   ],
   "source": [
    "check_test(a)"
   ]
  },
  {
   "attachments": {},
   "cell_type": "markdown",
   "metadata": {},
   "source": [
    "### Пятипараметрический генератор\n",
    "\n",
    "Использованные параметры при генерации: /i:4,1,2,13,32,133"
   ]
  },
  {
   "cell_type": "code",
   "execution_count": 182,
   "metadata": {},
   "outputs": [
    {
     "name": "stdout",
     "output_type": "stream",
     "text": [
      "Математическое ожидание:  0.00840156402737048\n",
      "Среднеквадратическое отклонение:  0.0040441824878797656\n"
     ]
    }
   ],
   "source": [
    "a = get_personally_generated_sequence(\"../seqs/5p.dat\")\n",
    "print(\"Математическое ожидание: \", calculate_expected_value(a))\n",
    "print(\"Среднеквадратическое отклонение: \", calculate_standard_deviation(a))"
   ]
  },
  {
   "cell_type": "code",
   "execution_count": 183,
   "metadata": {},
   "outputs": [
    {
     "data": {
      "image/png": "[encoded data removed]",
      "text/plain": [
       "<Figure size 432x288 with 1 Axes>"
      ]
     },
     "metadata": {
      "needs_background": "light"
     },
     "output_type": "display_data"
    }
   ],
   "source": [
    "# Зависимость значения мат. ожидания от объёма выборки. Ось X соответствует объёму выборки\n",
    "plot_mean_graph(a)"
   ]
  },
  {
   "cell_type": "code",
   "execution_count": 184,
   "metadata": {},
   "outputs": [
    {
     "data": {
      "image/png": "[encoded data removed]",
      "text/plain": [
       "<Figure size 432x288 with 1 Axes>"
      ]
     },
     "metadata": {
      "needs_background": "light"
     },
     "output_type": "display_data"
    }
   ],
   "source": [
    "# Зависимость значения среднеквадратического отклонения от объёма выборки. Ось X соответствует объёму выборки\n",
    "plot_std_graph(a)"
   ]
  },
  {
   "cell_type": "code",
   "execution_count": 185,
   "metadata": {},
   "outputs": [
    {
     "name": "stdout",
     "output_type": "stream",
     "text": [
      "Относительная погрешность мат. ожидания:  0.49159843597262953\n",
      "Относительная погрешность среднекв. отклонения:  0.28465581751212027\n"
     ]
    }
   ],
   "source": [
    "get_relative_errors(a)"
   ]
  },
  {
   "cell_type": "code",
   "execution_count": 186,
   "metadata": {},
   "outputs": [
    {
     "name": "stdout",
     "output_type": "stream",
     "text": [
      "Критерий Хи-квадрат: False\n",
      "Критерий серий: False\n",
      "Критерий интервалов: False\n",
      "Критерий разбиений: False\n",
      "Критерий перестановок: False\n"
     ]
    }
   ],
   "source": [
    "check_test(a)"
   ]
  },
  {
   "attachments": {},
   "cell_type": "markdown",
   "metadata": {},
   "source": [
    "### РСЛОС\n",
    "\n",
    "Использованные параметры при генерации: /i:00000000000000000000000000000001,00000000000000000000000000000011"
   ]
  },
  {
   "cell_type": "code",
   "execution_count": 187,
   "metadata": {},
   "outputs": [
    {
     "name": "stdout",
     "output_type": "stream",
     "text": [
      "Математическое ожидание:  0.062400391006842616\n",
      "Среднеквадратическое отклонение:  0.1654302252079233\n"
     ]
    }
   ],
   "source": [
    "a = get_personally_generated_sequence(\"../seqs/lfsr.dat\")\n",
    "print(\"Математическое ожидание: \", calculate_expected_value(a))\n",
    "print(\"Среднеквадратическое отклонение: \", calculate_standard_deviation(a))"
   ]
  },
  {
   "cell_type": "code",
   "execution_count": 188,
   "metadata": {},
   "outputs": [
    {
     "data": {
      "image/png": "[encoded data removed]",
      "text/plain": [
       "<Figure size 432x288 with 1 Axes>"
      ]
     },
     "metadata": {
      "needs_background": "light"
     },
     "output_type": "display_data"
    }
   ],
   "source": [
    "# Зависимость значения мат. ожидания от объёма выборки. Ось X соответствует объёму выборки\n",
    "plot_mean_graph(a)"
   ]
  },
  {
   "cell_type": "code",
   "execution_count": 189,
   "metadata": {},
   "outputs": [
    {
     "data": {
      "image/png": "[encoded data removed]",
      "text/plain": [
       "<Figure size 432x288 with 1 Axes>"
      ]
     },
     "metadata": {
      "needs_background": "light"
     },
     "output_type": "display_data"
    }
   ],
   "source": [
    "# Зависимость значения среднеквадратического отклонения от объёма выборки. Ось X соответствует объёму выборки\n",
    "plot_std_graph(a)"
   ]
  },
  {
   "cell_type": "code",
   "execution_count": 190,
   "metadata": {},
   "outputs": [
    {
     "name": "stdout",
     "output_type": "stream",
     "text": [
      "Относительная погрешность мат. ожидания:  0.43759960899315736\n",
      "Относительная погрешность среднекв. отклонения:  0.12326977479207671\n"
     ]
    }
   ],
   "source": [
    "get_relative_errors(a)"
   ]
  },
  {
   "cell_type": "code",
   "execution_count": 191,
   "metadata": {},
   "outputs": [
    {
     "name": "stdout",
     "output_type": "stream",
     "text": [
      "Критерий Хи-квадрат: False\n",
      "Критерий серий: False\n",
      "Критерий интервалов: False\n",
      "Критерий разбиений: False\n",
      "Критерий перестановок: False\n"
     ]
    }
   ],
   "source": [
    "check_test(a)"
   ]
  },
  {
   "attachments": {},
   "cell_type": "markdown",
   "metadata": {},
   "source": [
    "### Нелинейная комбинация РСЛОС\n",
    "\n",
    "Использованные параметры при генерации: /i:00000000000000000000000000000001,00000000000000000000000000000001,00000000000000000000000000100001,32,3,4,7"
   ]
  },
  {
   "cell_type": "code",
   "execution_count": 192,
   "metadata": {},
   "outputs": [
    {
     "name": "stdout",
     "output_type": "stream",
     "text": [
      "Математическое ожидание:  0.47858338220918867\n",
      "Среднеквадратическое отклонение:  0.2972869036092801\n"
     ]
    }
   ],
   "source": [
    "a = get_personally_generated_sequence(\"../seqs/nfsr.dat\")\n",
    "print(\"Математическое ожидание: \", calculate_expected_value(a))\n",
    "print(\"Среднеквадратическое отклонение: \", calculate_standard_deviation(a))"
   ]
  },
  {
   "cell_type": "code",
   "execution_count": 193,
   "metadata": {},
   "outputs": [
    {
     "data": {
      "image/png": "[encoded data removed]",
      "text/plain": [
       "<Figure size 432x288 with 1 Axes>"
      ]
     },
     "metadata": {
      "needs_background": "light"
     },
     "output_type": "display_data"
    }
   ],
   "source": [
    "# Зависимость значения мат. ожидания от объёма выборки. Ось X соответствует объёму выборки\n",
    "plot_mean_graph(a)"
   ]
  },
  {
   "cell_type": "code",
   "execution_count": 194,
   "metadata": {},
   "outputs": [
    {
     "data": {
      "image/png": "[encoded data removed]",
      "text/plain": [
       "<Figure size 432x288 with 1 Axes>"
      ]
     },
     "metadata": {
      "needs_background": "light"
     },
     "output_type": "display_data"
    }
   ],
   "source": [
    "# Зависимость значения среднеквадратического отклонения от объёма выборки. Ось X соответствует объёму выборки\n",
    "plot_std_graph(a)"
   ]
  },
  {
   "cell_type": "code",
   "execution_count": 195,
   "metadata": {},
   "outputs": [
    {
     "name": "stdout",
     "output_type": "stream",
     "text": [
      "Относительная погрешность мат. ожидания:  0.021416617790811332\n",
      "Относительная погрешность среднекв. отклонения:  0.008586903609280105\n"
     ]
    }
   ],
   "source": [
    "get_relative_errors(a)"
   ]
  },
  {
   "cell_type": "code",
   "execution_count": 196,
   "metadata": {},
   "outputs": [
    {
     "name": "stdout",
     "output_type": "stream",
     "text": [
      "Критерий Хи-квадрат: False\n",
      "Критерий серий: False\n",
      "Критерий интервалов: False\n",
      "Критерий разбиений: False\n",
      "Критерий перестановок: False\n"
     ]
    }
   ],
   "source": [
    "check_test(a)"
   ]
  },
  {
   "attachments": {},
   "cell_type": "markdown",
   "metadata": {},
   "source": [
    "### Вихрь Мерсенна\n",
    "\n",
    "Использованные параметры при генерации: /i:2193,1231"
   ]
  },
  {
   "cell_type": "code",
   "execution_count": 197,
   "metadata": {},
   "outputs": [
    {
     "name": "stdout",
     "output_type": "stream",
     "text": [
      "Математическое ожидание:  0.4706837234165147\n",
      "Среднеквадратическое отклонение:  0.30043812952886556\n"
     ]
    }
   ],
   "source": [
    "a = get_personally_generated_sequence(\"../seqs/mt.dat\")\n",
    "print(\"Математическое ожидание: \", calculate_expected_value(a))\n",
    "print(\"Среднеквадратическое отклонение: \", calculate_standard_deviation(a))"
   ]
  },
  {
   "cell_type": "code",
   "execution_count": 198,
   "metadata": {},
   "outputs": [
    {
     "data": {
      "image/png": "[encoded data removed]",
      "text/plain": [
       "<Figure size 432x288 with 1 Axes>"
      ]
     },
     "metadata": {
      "needs_background": "light"
     },
     "output_type": "display_data"
    }
   ],
   "source": [
    "# Зависимость значения мат. ожидания от объёма выборки. Ось X соответствует объёму выборки\n",
    "plot_mean_graph(a)"
   ]
  },
  {
   "cell_type": "code",
   "execution_count": 199,
   "metadata": {},
   "outputs": [
    {
     "data": {
      "image/png": "[encoded data removed]",
      "text/plain": [
       "<Figure size 432x288 with 1 Axes>"
      ]
     },
     "metadata": {
      "needs_background": "light"
     },
     "output_type": "display_data"
    }
   ],
   "source": [
    "# Зависимость значения среднеквадратического отклонения от объёма выборки. Ось X соответствует объёму выборки\n",
    "plot_std_graph(a)"
   ]
  },
  {
   "cell_type": "code",
   "execution_count": 200,
   "metadata": {},
   "outputs": [
    {
     "name": "stdout",
     "output_type": "stream",
     "text": [
      "Относительная погрешность мат. ожидания:  0.02931627658348529\n",
      "Относительная погрешность среднекв. отклонения:  0.011738129528865549\n"
     ]
    }
   ],
   "source": [
    "get_relative_errors(a)"
   ]
  },
  {
   "cell_type": "code",
   "execution_count": 201,
   "metadata": {},
   "outputs": [
    {
     "name": "stdout",
     "output_type": "stream",
     "text": [
      "Критерий Хи-квадрат: False\n",
      "Критерий серий: False\n",
      "Критерий интервалов: False\n",
      "Критерий разбиений: True\n",
      "Критерий перестановок: True\n"
     ]
    }
   ],
   "source": [
    "check_test(a)"
   ]
  },
  {
   "attachments": {},
   "cell_type": "markdown",
   "metadata": {},
   "source": [
    "### RC4\n",
    "\n",
    "Использованные параметры при генерации: /i:213,968,838,64,355,214,212,36,695,139,897,518,656,956,810,510,985,105,670,8,907,951,685,989,222,931,169,286,289,556,731,902,688,701,771,533,990,630,708,884,255,683,25,214,792,348,34,758,9,781,946,580,615,955,585,5,886,563,81,38,809,444,619,222,544,53,635,621,630,251,497,257,2,467,897,790,728,676,722,838,465,781,10,828,903,235,857,841,146,719,681,678,961,652,491,38,256,909,251,21,110,811,273,25,642,286,489,478,184,812,770,846,241,141,266,500,375,827,633,761,154,663,461,206,529,212,667,342,360,165,523,749,582,803,553,345,786,990,361,702,256,380,234,238,73,965,266,300,847,755,969,681,146,843,125,306,845,752,879,458,788,833,727,817,122,239,765,877,827,327,733,658,644,880,150,474,493,689,670,368,611,263,113,417,834,103,725,754,117,824,623,338,540,337,879,521,183,370,808,120,571,871,301,210,796,744,398,106,845,745,842,876,399,27,105,601,802,831,53,266,157,352,175,303,505,484,994,425,292,729,654,584,860,420,412,49,281,417,703,400,48,404,772,389,733,152,271,585,404,333,381,696,928,609,659,180"
   ]
  },
  {
   "cell_type": "code",
   "execution_count": 202,
   "metadata": {},
   "outputs": [
    {
     "name": "stdout",
     "output_type": "stream",
     "text": [
      "Математическое ожидание:  0.1341140889037321\n",
      "Среднеквадратическое отклонение:  0.10316808287869629\n"
     ]
    }
   ],
   "source": [
    "a = get_personally_generated_sequence(\"../seqs/rc4.dat\")\n",
    "print(\"Математическое ожидание: \", calculate_expected_value(a))\n",
    "print(\"Среднеквадратическое отклонение: \", calculate_standard_deviation(a))"
   ]
  },
  {
   "cell_type": "code",
   "execution_count": 203,
   "metadata": {},
   "outputs": [
    {
     "data": {
      "image/png": "[encoded data removed]",
      "text/plain": [
       "<Figure size 432x288 with 1 Axes>"
      ]
     },
     "metadata": {
      "needs_background": "light"
     },
     "output_type": "display_data"
    }
   ],
   "source": [
    "# Зависимость значения мат. ожидания от объёма выборки. Ось X соответствует объёму выборки\n",
    "plot_mean_graph(a)"
   ]
  },
  {
   "cell_type": "code",
   "execution_count": 204,
   "metadata": {},
   "outputs": [
    {
     "data": {
      "image/png": "[encoded data removed]",
      "text/plain": [
       "<Figure size 432x288 with 1 Axes>"
      ]
     },
     "metadata": {
      "needs_background": "light"
     },
     "output_type": "display_data"
    }
   ],
   "source": [
    "# Зависимость значения среднеквадратического отклонения от объёма выборки. Ось X соответствует объёму выборки\n",
    "plot_std_graph(a)"
   ]
  },
  {
   "cell_type": "code",
   "execution_count": 205,
   "metadata": {},
   "outputs": [
    {
     "name": "stdout",
     "output_type": "stream",
     "text": [
      "Относительная погрешность мат. ожидания:  0.3658859110962679\n",
      "Относительная погрешность среднекв. отклонения:  0.18553191712130374\n"
     ]
    }
   ],
   "source": [
    "get_relative_errors(a)"
   ]
  },
  {
   "cell_type": "code",
   "execution_count": 206,
   "metadata": {},
   "outputs": [
    {
     "name": "stdout",
     "output_type": "stream",
     "text": [
      "Критерий Хи-квадрат: False\n",
      "Критерий серий: False\n",
      "Критерий интервалов: False\n",
      "Критерий разбиений: False\n",
      "Критерий перестановок: True\n"
     ]
    }
   ],
   "source": [
    "check_test(a)"
   ]
  },
  {
   "attachments": {},
   "cell_type": "markdown",
   "metadata": {},
   "source": [
    "### RSA\n",
    "\n",
    "Использованные параметры при генерации: /i:39203,1024,10,12395"
   ]
  },
  {
   "cell_type": "code",
   "execution_count": 207,
   "metadata": {},
   "outputs": [
    {
     "name": "stdout",
     "output_type": "stream",
     "text": [
      "Математическое ожидание:  0.6190963503845118\n",
      "Среднеквадратическое отклонение:  0.27830388914693316\n"
     ]
    }
   ],
   "source": [
    "a = get_personally_generated_sequence(\"../seqs/rsa.dat\")\n",
    "print(\"Математическое ожидание: \", calculate_expected_value(a))\n",
    "print(\"Среднеквадратическое отклонение: \", calculate_standard_deviation(a))"
   ]
  },
  {
   "cell_type": "code",
   "execution_count": 208,
   "metadata": {},
   "outputs": [
    {
     "data": {
      "image/png": "[encoded data removed]",
      "text/plain": [
       "<Figure size 432x288 with 1 Axes>"
      ]
     },
     "metadata": {
      "needs_background": "light"
     },
     "output_type": "display_data"
    }
   ],
   "source": [
    "# Зависимость значения мат. ожидания от объёма выборки. Ось X соответствует объёму выборки\n",
    "plot_mean_graph(a)"
   ]
  },
  {
   "cell_type": "code",
   "execution_count": 209,
   "metadata": {},
   "outputs": [
    {
     "data": {
      "image/png": "[encoded data removed]",
      "text/plain": [
       "<Figure size 432x288 with 1 Axes>"
      ]
     },
     "metadata": {
      "needs_background": "light"
     },
     "output_type": "display_data"
    }
   ],
   "source": [
    "# Зависимость значения среднеквадратического отклонения от объёма выборки. Ось X соответствует объёму выборки\n",
    "plot_std_graph(a)"
   ]
  },
  {
   "cell_type": "code",
   "execution_count": 210,
   "metadata": {},
   "outputs": [
    {
     "name": "stdout",
     "output_type": "stream",
     "text": [
      "Относительная погрешность мат. ожидания:  0.11909635038451183\n",
      "Относительная погрешность среднекв. отклонения:  0.010396110853066853\n"
     ]
    }
   ],
   "source": [
    "get_relative_errors(a)"
   ]
  },
  {
   "cell_type": "code",
   "execution_count": 211,
   "metadata": {},
   "outputs": [
    {
     "name": "stdout",
     "output_type": "stream",
     "text": [
      "Критерий Хи-квадрат: False\n",
      "Критерий серий: False\n",
      "Критерий интервалов: False\n",
      "Критерий разбиений: False\n",
      "Критерий перестановок: False\n"
     ]
    }
   ],
   "source": [
    "check_test(a)"
   ]
  },
  {
   "attachments": {},
   "cell_type": "markdown",
   "metadata": {},
   "source": [
    "### Алгоритм Блюма-Блюма-Шуба\n",
    "\n",
    "Использованные параметры при генерации: /i:3229"
   ]
  },
  {
   "cell_type": "code",
   "execution_count": 212,
   "metadata": {},
   "outputs": [
    {
     "name": "stdout",
     "output_type": "stream",
     "text": [
      "Математическое ожидание:  0.5000331833874286\n",
      "Среднеквадратическое отклонение:  0.3283717367036913\n"
     ]
    }
   ],
   "source": [
    "a = get_personally_generated_sequence(\"../seqs/bbs.dat\")\n",
    "print(\"Математическое ожидание: \", calculate_expected_value(a))\n",
    "print(\"Среднеквадратическое отклонение: \", calculate_standard_deviation(a))"
   ]
  },
  {
   "cell_type": "code",
   "execution_count": 213,
   "metadata": {},
   "outputs": [
    {
     "data": {
      "image/png": "[encoded data removed]",
      "text/plain": [
       "<Figure size 432x288 with 1 Axes>"
      ]
     },
     "metadata": {
      "needs_background": "light"
     },
     "output_type": "display_data"
    }
   ],
   "source": [
    "# Зависимость значения мат. ожидания от объёма выборки. Ось X соответствует объёму выборки\n",
    "plot_mean_graph(a)"
   ]
  },
  {
   "cell_type": "code",
   "execution_count": 214,
   "metadata": {},
   "outputs": [
    {
     "data": {
      "image/png": "[encoded data removed]",
      "text/plain": [
       "<Figure size 432x288 with 1 Axes>"
      ]
     },
     "metadata": {
      "needs_background": "light"
     },
     "output_type": "display_data"
    }
   ],
   "source": [
    "# Зависимость значения среднеквадратического отклонения от объёма выборки. Ось X соответствует объёму выборки\n",
    "plot_std_graph(a)"
   ]
  },
  {
   "cell_type": "code",
   "execution_count": 215,
   "metadata": {},
   "outputs": [
    {
     "name": "stdout",
     "output_type": "stream",
     "text": [
      "Относительная погрешность мат. ожидания:  3.318338742863691e-05\n",
      "Относительная погрешность среднекв. отклонения:  0.039671736703691285\n"
     ]
    }
   ],
   "source": [
    "get_relative_errors(a)"
   ]
  },
  {
   "cell_type": "code",
   "execution_count": 216,
   "metadata": {},
   "outputs": [
    {
     "name": "stdout",
     "output_type": "stream",
     "text": [
      "Критерий Хи-квадрат: False\n",
      "Критерий серий: False\n",
      "Критерий интервалов: False\n",
      "Критерий разбиений: False\n",
      "Критерий перестановок: False\n"
     ]
    }
   ],
   "source": [
    "check_test(a)"
   ]
  }
 ],
 "metadata": {
  "kernelspec": {
   "display_name": "Python 3",
   "language": "python",
   "name": "python3"
  },
  "language_info": {
   "codemirror_mode": {
    "name": "ipython",
    "version": 3
   },
   "file_extension": ".py",
   "mimetype": "text/x-python",
   "name": "python",
   "nbconvert_exporter": "python",
   "pygments_lexer": "ipython3",
   "version": "3.9.1"
  },
  "orig_nbformat": 4
 },
 "nbformat": 4,
 "nbformat_minor": 2
}
