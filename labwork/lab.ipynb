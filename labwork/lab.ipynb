{
 "cells": [
  {
   "cell_type": "code",
   "execution_count": 16,
   "metadata": {},
   "outputs": [],
   "source": [
    "import numpy as np\n",
    "import os\n",
    "import math\n",
    "import seaborn as sns"
   ]
  },
  {
   "cell_type": "code",
   "execution_count": 22,
   "metadata": {},
   "outputs": [],
   "source": [
    "def read_from_file(filename):\n",
    "    with open(filename) as f:\n",
    "        lines = f.readlines()\n",
    "    input_file = \"\".join(lines)\n",
    "    return input_file"
   ]
  },
  {
   "cell_type": "code",
   "execution_count": 23,
   "metadata": {},
   "outputs": [],
   "source": [
    "def get_personally_generated_sequence(filename=None):\n",
    "    if filename is None:\n",
    "        print(\"Введите путь к файлу со сгенерированной последовательностью:\")\n",
    "        filename = input()\n",
    "    input_file = read_from_file(filename)\n",
    "    input_file = input_file.split(\",\")\n",
    "    sequence = [int(elem) for elem in input_file if len(elem) != 0]\n",
    "\n",
    "    # нормализую\n",
    "    sequence = [elem / 1023 for elem in sequence]\n",
    "    return sequence"
   ]
  },
  {
   "cell_type": "code",
   "execution_count": 42,
   "metadata": {},
   "outputs": [],
   "source": [
    "a = get_personally_generated_sequence(\"../rnd.dat\")"
   ]
  },
  {
   "attachments": {},
   "cell_type": "markdown",
   "metadata": {},
   "source": [
    "### Математическое ожидание"
   ]
  },
  {
   "cell_type": "code",
   "execution_count": 66,
   "metadata": {},
   "outputs": [],
   "source": [
    "def calculate_expected_value(seq):\n",
    "    elements_count = {}\n",
    "    # iterating over the elements for frequency\n",
    "    for element in seq:\n",
    "    # checking whether it is in the dict or not\n",
    "        if element in elements_count:\n",
    "            # incerementing the count by 1\n",
    "            elements_count[element] += 1\n",
    "        else:\n",
    "            # setting the count to 1\n",
    "            elements_count[element] = 1\n",
    "\n",
    "    elements_probs = {k: v / len(seq) for k, v in elements_count.items()}\n",
    "    \n",
    "    values = np.array(list(elements_probs.keys()))\n",
    "    weights = np.array(list(elements_probs.values()))\n",
    "    return (values * weights).sum() / weights.sum()"
   ]
  },
  {
   "cell_type": "code",
   "execution_count": 69,
   "metadata": {},
   "outputs": [],
   "source": [
    "expected_value = calculate_expected_value(a)"
   ]
  },
  {
   "cell_type": "code",
   "execution_count": 70,
   "metadata": {},
   "outputs": [
    {
     "data": {
      "text/plain": [
       "0.49936119257086997"
      ]
     },
     "execution_count": 70,
     "metadata": {},
     "output_type": "execute_result"
    }
   ],
   "source": [
    "expected_value"
   ]
  },
  {
   "cell_type": "code",
   "execution_count": 28,
   "metadata": {},
   "outputs": [],
   "source": [
    "arr_a = np.array(a)"
   ]
  },
  {
   "attachments": {},
   "cell_type": "markdown",
   "metadata": {},
   "source": [
    "### Среднеквадратичное отклонение"
   ]
  },
  {
   "cell_type": "code",
   "execution_count": 71,
   "metadata": {},
   "outputs": [],
   "source": [
    "def calculate_standard_deviation(seq):\n",
    "    # arr_seq = np.array(seq)\n",
    "    mean_seq = calculate_expected_value(seq)\n",
    "    return math.sqrt(sum([(elem - mean_seq) ** 2 for elem in seq]) / len(seq))"
   ]
  },
  {
   "cell_type": "code",
   "execution_count": 72,
   "metadata": {},
   "outputs": [
    {
     "data": {
      "text/plain": [
       "0.28910657646971155"
      ]
     },
     "execution_count": 72,
     "metadata": {},
     "output_type": "execute_result"
    }
   ],
   "source": [
    "calculate_standard_deviation(a)"
   ]
  },
  {
   "attachments": {},
   "cell_type": "markdown",
   "metadata": {},
   "source": [
    "### Отрисовка графиков"
   ]
  },
  {
   "cell_type": "code",
   "execution_count": 73,
   "metadata": {},
   "outputs": [],
   "source": [
    "def plot_mean_graph(seq, step=1):\n",
    "    seq_amounts = []\n",
    "    amount_to_mean = []\n",
    "    for i in range(50, 0, -step):\n",
    "        cur_value_amount = len(seq) // i\n",
    "        seq_amounts.append(cur_value_amount)\n",
    "        seq = np.array(seq)\n",
    "        cur_value_mean = calculate_expected_value(seq[:cur_value_amount])\n",
    "        amount_to_mean.append(cur_value_mean)\n",
    "    \n",
    "    sns.lineplot(seq_amounts, amount_to_mean)"
   ]
  },
  {
   "cell_type": "code",
   "execution_count": 74,
   "metadata": {},
   "outputs": [],
   "source": [
    "def plot_std_graph(seq, step=1):\n",
    "    seq_amounts = []\n",
    "    amount_to_std = []\n",
    "    for i in range(50, 0, -step):\n",
    "        cur_value_amount = len(seq) // i\n",
    "        seq_amounts.append(cur_value_amount)\n",
    "        cur_value_std = calculate_standard_deviation(seq[:cur_value_amount])\n",
    "        amount_to_std.append(cur_value_std)\n",
    "    \n",
    "    sns.lineplot(seq_amounts, amount_to_std)"
   ]
  },
  {
   "cell_type": "code",
   "execution_count": 75,
   "metadata": {},
   "outputs": [
    {
     "name": "stderr",
     "output_type": "stream",
     "text": [
      "c:\\Python39\\lib\\site-packages\\seaborn\\_decorators.py:36: FutureWarning: Pass the following variables as keyword args: x, y. From version 0.12, the only valid positional argument will be `data`, and passing other arguments without an explicit keyword will result in an error or misinterpretation.\n",
      "  warnings.warn(\n"
     ]
    },
    {
     "data": {
      "image/png": "[encoded data removed]",
      "text/plain": [
       "<Figure size 432x288 with 1 Axes>"
      ]
     },
     "metadata": {
      "needs_background": "light"
     },
     "output_type": "display_data"
    }
   ],
   "source": [
    "plot_mean_graph(a)"
   ]
  },
  {
   "cell_type": "code",
   "execution_count": 76,
   "metadata": {},
   "outputs": [
    {
     "name": "stderr",
     "output_type": "stream",
     "text": [
      "c:\\Python39\\lib\\site-packages\\seaborn\\_decorators.py:36: FutureWarning: Pass the following variables as keyword args: x, y. From version 0.12, the only valid positional argument will be `data`, and passing other arguments without an explicit keyword will result in an error or misinterpretation.\n",
      "  warnings.warn(\n"
     ]
    },
    {
     "data": {
      "image/png": "[encoded data removed]",
      "text/plain": [
       "<Figure size 432x288 with 1 Axes>"
      ]
     },
     "metadata": {
      "needs_background": "light"
     },
     "output_type": "display_data"
    }
   ],
   "source": [
    "plot_std_graph(a)"
   ]
  },
  {
   "attachments": {},
   "cell_type": "markdown",
   "metadata": {},
   "source": [
    "### Относительные погрешности"
   ]
  },
  {
   "attachments": {},
   "cell_type": "markdown",
   "metadata": {},
   "source": [
    "Целевое мат. ожидание: $0.5$\n",
    "\n",
    "Целевое std: $0.2887$"
   ]
  },
  {
   "cell_type": "code",
   "execution_count": 81,
   "metadata": {},
   "outputs": [],
   "source": [
    "def get_relative_errors(seq):\n",
    "    GOAL_MEAN = 0.5\n",
    "    GOAL_STD = 0.2887\n",
    "    cur_value_mean = calculate_expected_value(seq)\n",
    "    cur_value_std = calculate_standard_deviation(seq)\n",
    "    print(\"Относительная погрешность мат. ожидания: \", abs(GOAL_MEAN - cur_value_mean))\n",
    "    print(\"Относительная погрешность среднекв. отклонения: \", abs(GOAL_STD - cur_value_std))\n"
   ]
  },
  {
   "cell_type": "code",
   "execution_count": 82,
   "metadata": {},
   "outputs": [
    {
     "name": "stdout",
     "output_type": "stream",
     "text": [
      "Относительная погрешность мат. ожидания:  0.0006388074291300283\n",
      "Относительная погрешность среднекв. отклонения:  0.00040657646971153927\n"
     ]
    }
   ],
   "source": [
    "get_relative_errors(a)"
   ]
  },
  {
   "cell_type": "code",
   "execution_count": 90,
   "metadata": {},
   "outputs": [],
   "source": [
    "import scipy"
   ]
  },
  {
   "attachments": {},
   "cell_type": "markdown",
   "metadata": {},
   "source": [
    "### Критерий хи-квадрат"
   ]
  },
  {
   "cell_type": "code",
   "execution_count": 152,
   "metadata": {},
   "outputs": [],
   "source": [
    "def chi_square(seq, p=0.05, given_seqs_n_k=None):\n",
    "    if given_seqs_n_k is not None:\n",
    "        theor, emp, k = given_seqs_n_k\n",
    "        chi_sq = sum([((theor[i] - emp[i]) ** 2) / theor[i] for i in range(len(theor))])\n",
    "    else:\n",
    "        n = len(seq)\n",
    "        k = math.ceil(1 + 1.4 * math.log(n))\n",
    "        intervals = list(np.linspace(0, 1, k))\n",
    "        interval_pairs = []\n",
    "        for i in range(len(intervals) - 1):\n",
    "            interval_pairs.append((intervals[i], intervals[i + 1]))\n",
    "        \n",
    "        interval_cnts = {}\n",
    "        for pair_a, pair_b in interval_pairs:\n",
    "            cur_cnt = 0\n",
    "            for elem in seq:\n",
    "                if pair_a <= elem < pair_b:\n",
    "                    cur_cnt += 1\n",
    "            interval_cnts[f\"{pair_a}-{pair_b}\"] = cur_cnt\n",
    "        \n",
    "        est = round(n / k, 3)\n",
    "        chi_sq = sum([((v - est) ** 2) / est for _, v in interval_cnts.items()])\n",
    "\n",
    "    chi_crit = round(scipy.stats.chi2.ppf(1 - p, df=(k - 1)), 4)\n",
    "    return chi_sq <= chi_crit"
   ]
  },
  {
   "cell_type": "code",
   "execution_count": 153,
   "metadata": {},
   "outputs": [
    {
     "data": {
      "text/plain": [
       "False"
      ]
     },
     "execution_count": 153,
     "metadata": {},
     "output_type": "execute_result"
    }
   ],
   "source": [
    "chi_square(a)"
   ]
  },
  {
   "attachments": {},
   "cell_type": "markdown",
   "metadata": {},
   "source": [
    "### Критерий серий"
   ]
  },
  {
   "cell_type": "code",
   "execution_count": 154,
   "metadata": {},
   "outputs": [],
   "source": [
    "def real_seq_to_integer(seq, d):\n",
    "    int_seq = [math.floor(elem * d) for elem in seq if elem < 1]\n",
    "    return int_seq"
   ]
  },
  {
   "cell_type": "code",
   "execution_count": 155,
   "metadata": {},
   "outputs": [],
   "source": [
    "def serial_test(seq):\n",
    "    d = 8\n",
    "    int_seq = real_seq_to_integer(seq, d)\n",
    "    emp = [0] * d * d\n",
    "\n",
    "    n = len(int_seq)\n",
    "    half_n = n // 2\n",
    "    for i in range(half_n):\n",
    "        q, r = int_seq[2 * i], int_seq[2 * i + 1]\n",
    "        emp[q * d + r] += 1\n",
    "\n",
    "    theor = [n / (2 * d * d)] * d * d\n",
    "\n",
    "    return chi_square(None, given_seqs_n_k=(theor, emp, d * d))\n"
   ]
  },
  {
   "cell_type": "code",
   "execution_count": 156,
   "metadata": {},
   "outputs": [
    {
     "data": {
      "text/plain": [
       "False"
      ]
     },
     "execution_count": 156,
     "metadata": {},
     "output_type": "execute_result"
    }
   ],
   "source": [
    "serial_test(a)"
   ]
  }
 ],
 "metadata": {
  "kernelspec": {
   "display_name": "Python 3",
   "language": "python",
   "name": "python3"
  },
  "language_info": {
   "codemirror_mode": {
    "name": "ipython",
    "version": 3
   },
   "file_extension": ".py",
   "mimetype": "text/x-python",
   "name": "python",
   "nbconvert_exporter": "python",
   "pygments_lexer": "ipython3",
   "version": "3.9.1"
  },
  "orig_nbformat": 4
 },
 "nbformat": 4,
 "nbformat_minor": 2
}
